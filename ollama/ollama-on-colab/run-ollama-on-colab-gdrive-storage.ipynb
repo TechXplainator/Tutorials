{
 "cells": [
  {
   "cell_type": "code",
   "execution_count": null,
   "metadata": {},
   "outputs": [],
   "source": [
    "# Download and run the Ollama Linux install script\n",
    "!curl -fsSL https://ollama.com/install.sh | sh"
   ]
  },
  {
   "cell_type": "code",
   "execution_count": null,
   "metadata": {},
   "outputs": [],
   "source": [
    "# Get Ngrok authentication token from colab secrets environment\n",
    "from google.colab import userdata\n",
    "NGROK_AUTH_TOKEN = userdata.get('NGROK_AUTH_TOKEN')\n",
    "\n",
    "# Mount Google Drive for Ollama Model Storage\n",
    "from google.colab import drive\n",
    "drive.mount('/content/drive')\n",
    "\n",
    "# Check if the \"Ollama Models\" directory exists, and create it if not\n",
    "import os\n",
    "ollama_dir = '/content/drive/My Drive/OllamaModels'\n",
    "if not os.path.exists(ollama_dir):\n",
    "  !mkdir -p \"$ollama_dir\""
   ]
  },
  {
   "cell_type": "code",
   "execution_count": null,
   "metadata": {},
   "outputs": [],
   "source": [
    "# Install:\n",
    "#  1. aiohttp for concurrent subprocess execution in Jupyter Notebooks\n",
    "#  2. pyngrok for Ngrok wrapper\n",
    "!pip install aiohttp pyngrok\n",
    "\n",
    "import asyncio\n",
    "import os\n",
    "\n",
    "# Set LD_LIBRARY_PATH so the system NVIDIA library becomes preferred\n",
    "# over the built-in library. This is particularly important for\n",
    "# Google Colab which installs older drivers\n",
    "os.environ.update({'LD_LIBRARY_PATH': '/usr/lib64-nvidia'})\n",
    "\n",
    "# Define run - a helper function to run subcommands asynchronously.\n",
    "# The function takes in 2 arguments:\n",
    "#  1. command\n",
    "#  2. environment variable for Ollama\n",
    "async def run(cmd, env=None):\n",
    "  print('>>> starting', *cmd)\n",
    "  p = await asyncio.subprocess.create_subprocess_exec(\n",
    "      *cmd,\n",
    "      stdout=asyncio.subprocess.PIPE,\n",
    "      stderr=asyncio.subprocess.PIPE,\n",
    "      env=env\n",
    "  )\n",
    "\n",
    "\n",
    "# This function is designed to handle large amounts of text data efficiently.\n",
    "# It asynchronously iterate over lines and print them, stripping and decoding as needed.\n",
    "  async def pipe(lines):\n",
    "    async for line in lines:\n",
    "      print(line.strip().decode('utf-8'))\n",
    "\n",
    "\n",
    "# Gather the standard output (stdout) and standard error output (stderr) streams of a subprocess and pipe them through\n",
    "# the `pipe()` function to print each line after stripping whitespace and decoding UTF-8.\n",
    "# This allows us to capture and process both the standard output and error messages from the subprocess concurrently.\n",
    "  await asyncio.gather(\n",
    "      pipe(p.stdout),\n",
    "      pipe(p.stderr),\n",
    "  )\n",
    "\n",
    "# Set the environment variables for ollama serve\n",
    "# Variable OLLAMA_MODELS redefines the path for model storage (from Colab to Google Drive)\n",
    "ollama_env = os.environ.copy()\n",
    "ollama_env['OLLAMA_MODELS'] = ollama_dir\n",
    "\n",
    "# Authenticate with Ngrok\n",
    "await asyncio.gather(\n",
    "  run(['ngrok', 'config', 'add-authtoken', NGROK_AUTH_TOKEN])\n",
    ")"
   ]
  },
  {
   "cell_type": "code",
   "execution_count": null,
   "metadata": {},
   "outputs": [],
   "source": [
    "# Run multiple tasks concurrently:\n",
    "#  1. Start the Ollama server.\n",
    "#  2. Start ngrok to forward HTTP traffic from the local ollama api running on localhost:11434.\n",
    "#     Instructions come from Ollama doc: https://github.com/ollama/ollama/blob/main/docs/faq.md#how-can-i-use-ollama-with-ngrok\n",
    "await asyncio.gather(\n",
    "    run(['ollama', 'serve'], env=ollama_env),\n",
    "\n",
    "    # If you don't want to map to a static URL in Ngrok, uncomment line 11 and comment line 12 before running this cell\n",
    "    # run(['ngrok', 'http', '--log', 'stderr', '11434', '--host-header', 'localhost:11434']),\n",
    "    run(['ngrok', 'http', '--log', 'stderr', '11434', '--host-header', 'localhost:11434', '--domain', 'insert-your-statik-ngrok-domain-here']),\n",
    "\n",
    ")"
   ]
  }
 ],
 "metadata": {
  "language_info": {
   "name": "python"
  }
 },
 "nbformat": 4,
 "nbformat_minor": 2
}
